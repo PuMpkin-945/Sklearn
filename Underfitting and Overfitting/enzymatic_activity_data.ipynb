{
 "cells": [
  {
   "cell_type": "code",
   "execution_count": 1,
   "id": "cec66ddd-1d20-4066-9579-1c13eef4a281",
   "metadata": {},
   "outputs": [
    {
     "name": "stdout",
     "output_type": "stream",
     "text": [
      "success\n"
     ]
    }
   ],
   "source": [
    "import numpy as np\n",
    "import pandas as pd\n",
    "\n",
    "# 设置随机种子以确保结果可重现\n",
    "np.random.seed(42)\n",
    "\n",
    "# 生成300个温度数据点（范围45-80度）\n",
    "temperatures = np.linspace(45, 80, 300)\n",
    "\n",
    "# 定义酶活性模型参数（根据酶活性曲线特性调整）\n",
    "optimal_temp = 65  # 最适温度\n",
    "max_activity = 100  # 最大活性\n",
    "width = 15  # 曲线宽度参数\n",
    "\n",
    "# 生成酶活性数据（基于高斯分布模拟钟形曲线）\n",
    "activities = max_activity * np.exp(-((temperatures - optimal_temp) ** 2) / (2 * width ** 2))\n",
    "\n",
    "# 添加随机噪声（模拟实验误差）\n",
    "noise = np.random.normal(0, 5, 300)  # 标准差为5的正态分布噪声\n",
    "activities = activities + noise\n",
    "\n",
    "# 确保酶活性值不超过最大值且不小于0\n",
    "activities = np.clip(activities, 0, max_activity)\n",
    "\n",
    "# 创建数据框\n",
    "data = pd.DataFrame({\n",
    "    'temperature': temperatures,\n",
    "    'activity': activities\n",
    "})\n",
    "\n",
    "# 保存数据到CSV文件\n",
    "try:\n",
    "    data.to_csv('enzymatic_acticity_data.csv', index=False)\n",
    "    print(\"success\")\n",
    "except Exception as e:\n",
    "    print(\"error\")    "
   ]
  },
  {
   "cell_type": "code",
   "execution_count": null,
   "id": "958b98f0-78a8-4ad7-ae05-bfb977b04a35",
   "metadata": {},
   "outputs": [],
   "source": []
  }
 ],
 "metadata": {
  "kernelspec": {
   "display_name": "myenv",
   "language": "python",
   "name": "myenv"
  },
  "language_info": {
   "codemirror_mode": {
    "name": "ipython",
    "version": 3
   },
   "file_extension": ".py",
   "mimetype": "text/x-python",
   "name": "python",
   "nbconvert_exporter": "python",
   "pygments_lexer": "ipython3",
   "version": "3.13.4"
  }
 },
 "nbformat": 4,
 "nbformat_minor": 5
}
