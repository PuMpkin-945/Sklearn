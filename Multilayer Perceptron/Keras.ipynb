{
 "cells": [
  {
   "cell_type": "markdown",
   "id": "ba549acf-269e-4b41-9cb4-3eb1912cd1a0",
   "metadata": {},
   "source": [
    "```python\n",
    "import pandas as pd\n",
    "import numpy as np\n",
    "data = pd.read_csv()\n",
    "\n",
    "x = data.drop(['y'],axis=1)\n",
    "y = data.loc[:,'y']\n",
    "\n",
    "from matplotlib import pyplot as plt\n",
    "fig1 = plt.figure()\n",
    "plt.show()\n",
    "\n",
    "from sklearn.model_selection import train_test_splot\n",
    "x_train,x_test,y_train,y_test = train_test_split(x,y,test_size= ,random_state= )\n",
    "\n",
    "from keras.models import Sequential\n",
    "from keras.layers import Dense,Activation\n",
    "\n",
    "mlp = Sequential()\n",
    "mlp.add(Dense(units=20,input_dim=2,activation='sigmoid'))#20神经元，2维度，sigmoid激活函数\n",
    "mlp.add(Dense(units=1,activation='sigmoid'))\n",
    "mlp.summary()\n",
    "\n",
    "\n",
    "#compile the model\n",
    "mlp.compile(optimizer='adam',loss='binary_crossentropy')\n",
    "\n",
    "#train the model\n",
    "mlp.fit(x_train,y_train,epochs=3000)\n",
    "\n",
    "#make prediction and calculate the accuracy\n",
    "y_train_predict = mlp.predict_classes(x_train)\n",
    "from sklearn.metrics import accuracy_score\n",
    "accuracy_train = accuracy_score(y_train,y_train_predict)\n",
    "\n",
    "y_test_predict = mlp.predict_classes(x_test)\n",
    "accuracy_test = accuracy_score(y_test,y_test_predict)\n",
    "\n",
    "#generate new data for plot\n",
    "xx,yy = np.meshgrid(np.arange(0,1,0.01),np.arange(0,1,0.01))\n",
    "x_range = np.c_[xx,ravel(),yy.ravel()]\n",
    "y_range_predict = mlp.predict_classes(x_range)"
   ]
  }
 ],
 "metadata": {
  "kernelspec": {
   "display_name": "Python 3 (ipykernel)",
   "language": "python",
   "name": "python3"
  },
  "language_info": {
   "codemirror_mode": {
    "name": "ipython",
    "version": 3
   },
   "file_extension": ".py",
   "mimetype": "text/x-python",
   "name": "python",
   "nbconvert_exporter": "python",
   "pygments_lexer": "ipython3",
   "version": "3.13.5"
  }
 },
 "nbformat": 4,
 "nbformat_minor": 5
}
