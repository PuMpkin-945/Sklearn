{
 "cells": [
  {
   "cell_type": "markdown",
   "id": "0cb85d3a-9134-48cd-b029-4895bbef3d08",
   "metadata": {},
   "source": [
    "异常检测task:\n",
    "1. 可视化数据分布情况，及其对应高斯分布的概率密度函数\n",
    "2. 建立模型，实现异常数据点预测\n",
    "3. 可视化异常检测处理结果\n",
    "4. 修改概率分布阈值contamination"
   ]
  },
  {
   "cell_type": "code",
   "execution_count": null,
   "id": "9fc6a6f1-937b-4afd-8a29-c57ea28b62ea",
   "metadata": {},
   "outputs": [],
   "source": []
  },
  {
   "cell_type": "code",
   "execution_count": null,
   "id": "8eb9233c-da23-45fe-b0c5-eedd5412b52f",
   "metadata": {},
   "outputs": [],
   "source": []
  },
  {
   "cell_type": "code",
   "execution_count": null,
   "id": "d128a964-352f-4dd8-a7da-d347379420f8",
   "metadata": {},
   "outputs": [],
   "source": []
  },
  {
   "cell_type": "code",
   "execution_count": null,
   "id": "ce8a302c-77c4-4b67-844e-610b322b6da0",
   "metadata": {},
   "outputs": [],
   "source": []
  },
  {
   "cell_type": "markdown",
   "id": "f6f37520-34b9-4329-9771-fc7e4429b711",
   "metadata": {},
   "source": [
    "SUMMARY：\n",
    "1. 通过计算数据各维度对应的高斯分布概率密度函数，可用于寻找到数据中的异常点\n",
    "2. 通过修改概率密度阈值可调整异常点检测的灵敏度\n",
    "3. [参考链接](heeps://scikit-learn.org/stable/modules/generated/sklearn.covariance.EllipticEnvelope.html?highlight=ellipticenvelope)"
   ]
  }
 ],
 "metadata": {
  "kernelspec": {
   "display_name": "myenv",
   "language": "python",
   "name": "myenv"
  },
  "language_info": {
   "codemirror_mode": {
    "name": "ipython",
    "version": 3
   },
   "file_extension": ".py",
   "mimetype": "text/x-python",
   "name": "python",
   "nbconvert_exporter": "python",
   "pygments_lexer": "ipython3",
   "version": "3.13.4"
  }
 },
 "nbformat": 4,
 "nbformat_minor": 5
}
