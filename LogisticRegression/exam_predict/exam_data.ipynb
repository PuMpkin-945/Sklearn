{
 "cells": [
  {
   "cell_type": "code",
   "execution_count": 3,
   "id": "b7c4898c-d702-46b2-b80c-ebcd29968e9f",
   "metadata": {},
   "outputs": [
    {
     "name": "stdout",
     "output_type": "stream",
     "text": [
      "已生成Excel文件：student_exam_data.xlsx\n",
      "可在 Jupyter 中用'pd.read_excel({excel_path})读取\n"
     ]
    }
   ],
   "source": [
    "import pandas as pd\n",
    "import numpy as np\n",
    "from sklearn.datasets import make_classification\n",
    "from scipy.stats import skewnorm\n",
    "\n",
    "# 设置随机种子确保结果可复现\n",
    "np.random.seed(42)\n",
    "\n",
    "# 生成具有偏态分布的基础能力值 (更符合实际情况)\n",
    "n_samples = 100\n",
    "base_ability = skewnorm.rvs(a=-4, loc=0.6, scale=0.25, size=n_samples)\n",
    "base_ability = np.clip(base_ability, 0, 1)\n",
    "\n",
    "# 创建考试分数的相关性结构\n",
    "correlation_matrix = np.array([[1.0, 0.7], [0.7, 1.0]])\n",
    "chol = np.linalg.cholesky(correlation_matrix)\n",
    "\n",
    "# 生成相关的随机噪声\n",
    "random_noise = np.random.normal(0, 0.15, size=(n_samples, 2))\n",
    "correlated_noise = np.dot(random_noise, chol)\n",
    "\n",
    "# 结合基础能力和相关噪声生成考试分数\n",
    "exam1 = base_ability + correlated_noise[:, 0]\n",
    "exam2 = base_ability + correlated_noise[:, 1]\n",
    "\n",
    "# 添加一些随机波动和离群值\n",
    "outlier_mask = np.random.choice([True, False], size=n_samples, p=[0.05, 0.95])\n",
    "exam1[outlier_mask] = np.random.uniform(0.3, 1.0, size=outlier_mask.sum())\n",
    "exam2[outlier_mask] = np.random.uniform(0.3, 1.0, size=outlier_mask.sum())\n",
    "\n",
    "# 分数转换到0-100范围并保留一位小数\n",
    "exam1 = np.round(exam1 * 100, 1)\n",
    "exam2 = np.round(exam2 * 100, 1)\n",
    "\n",
    "# 应用最大值限制(防止超过100分)\n",
    "exam1 = np.clip(exam1, 0, 100)\n",
    "exam2 = np.clip(exam2, 0, 100)\n",
    "\n",
    "# 创建更真实的通过/不通过标签\n",
    "# 结合两门考试的综合表现，添加一些随机因素模拟意外情况\n",
    "combined_score = 0.6 * exam1 + 0.4 * exam2\n",
    "pass_threshold = 60  # 及格线\n",
    "random_factor = np.random.normal(0, 5, size=n_samples)  # 随机因素\n",
    "pass_probability = 1 / (1 + np.exp(-(combined_score - pass_threshold + random_factor) / 10))\n",
    "pass_label = np.random.binomial(1, pass_probability)\n",
    "\n",
    "# 创建DataFrame\n",
    "df = pd.DataFrame({\n",
    "    'exam1': exam1,\n",
    "    'exam2': exam2,\n",
    "    'pass': pass_label\n",
    "})\n",
    "\n",
    "# # 随机添加一些缺失值模拟未参加考试的情况\n",
    "# missing_mask = np.random.choice([True, False], size=n_samples, p=[0.03, 0.97])\n",
    "# df.loc[missing_mask, 'exam1'] = np.nan\n",
    "# missing_mask = np.random.choice([True, False], size=n_samples, p=[0.03, 0.97])\n",
    "# df.loc[missing_mask, 'exam2'] = np.nan\n",
    "\n",
    "excel_path = 'student_exam_data.xlsx'\n",
    "df.to_excel(excel_path, index=False)\n",
    "print(f\"已生成Excel文件：{excel_path}\")\n",
    "print(\"可在 Jupyter 中用'pd.read_excel({excel_path})读取\")\n"
   ]
  },
  {
   "cell_type": "code",
   "execution_count": null,
   "id": "61af7ae0-b844-43d3-92e7-204a6df7ab39",
   "metadata": {},
   "outputs": [],
   "source": []
  }
 ],
 "metadata": {
  "kernelspec": {
   "display_name": "Python 3 (ipykernel)",
   "language": "python",
   "name": "python3"
  },
  "language_info": {
   "codemirror_mode": {
    "name": "ipython",
    "version": 3
   },
   "file_extension": ".py",
   "mimetype": "text/x-python",
   "name": "python",
   "nbconvert_exporter": "python",
   "pygments_lexer": "ipython3",
   "version": "3.13.5"
  }
 },
 "nbformat": 4,
 "nbformat_minor": 5
}
